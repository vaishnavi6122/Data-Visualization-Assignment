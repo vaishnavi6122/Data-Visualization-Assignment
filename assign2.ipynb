{
 "cells": [
  {
   "cell_type": "code",
   "execution_count": null,
   "id": "af4a31a7",
   "metadata": {},
   "outputs": [],
   "source": [
    "dd=pd.DataFrame(np.random.randint(0,100,size=(10,4)),columns=['a','b','c','d'])\n",
    "\n",
    "\n",
    "dd.head(10)"
   ]
  }
 ],
 "metadata": {
  "kernelspec": {
   "display_name": "Python 3",
   "language": "python",
   "name": "python3"
  },
  "language_info": {
   "codemirror_mode": {
    "name": "ipython",
    "version": 3
   },
   "file_extension": ".py",
   "mimetype": "text/x-python",
   "name": "python",
   "nbconvert_exporter": "python",
   "pygments_lexer": "ipython3",
   "version": "3.8.8"
  }
 },
 "nbformat": 4,
 "nbformat_minor": 5
}
